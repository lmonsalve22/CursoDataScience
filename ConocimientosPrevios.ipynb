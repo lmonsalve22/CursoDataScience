{
 "cells": [
  {
   "cell_type": "code",
   "execution_count": 4,
   "metadata": {},
   "outputs": [
    {
     "name": "stdout",
     "output_type": "stream",
     "text": [
      "Hola Mundo\n"
     ]
    }
   ],
   "source": [
    "print(\"Hola Mundo\")"
   ]
  },
  {
   "cell_type": "code",
   "execution_count": 13,
   "metadata": {},
   "outputs": [
    {
     "name": "stdout",
     "output_type": "stream",
     "text": [
      "Yo tenia  10  perritos ♪\n",
      "Yo tenia  9  perritos ♪\n",
      "Yo tenia  8  perritos ♪\n",
      "Yo tenia  7  perritos ♪\n",
      "Yo tenia  6  perritos ♪\n",
      "Yo tenia  5  perritos ♪\n",
      "Yo tenia  4  perritos ♪\n",
      "Yo tenia  3  perritos ♪\n",
      "Yo tenia  2  perritos ♪\n",
      "Yo tenia  1  perritos ♪\n"
     ]
    }
   ],
   "source": [
    "for i in range(10): print(\"Yo tenia \", 10 -  i , \" perritos ♪\" )"
   ]
  },
  {
   "cell_type": "markdown",
   "metadata": {},
   "source": [
    "# Este es un chunk dentro de Markdown\n",
    "\n",
    "* Podemos hacer listas:\n",
    "    - Y otras cosas dentro de las listas\n",
    "\n",
    "* _También podemos hacer_ __tablas__\n",
    "\n",
    "|Lorem| Ipsum |\n",
    "|-----|-------|\n",
    "|Dolor| Sit   |\n",
    "|Amet |    "
   ]
  },
  {
   "cell_type": "code",
   "execution_count": null,
   "metadata": {},
   "outputs": [],
   "source": []
  },
  {
   "cell_type": "code",
   "execution_count": null,
   "metadata": {},
   "outputs": [],
   "source": []
  },
  {
   "cell_type": "code",
   "execution_count": null,
   "metadata": {},
   "outputs": [],
   "source": []
  },
  {
   "cell_type": "code",
   "execution_count": null,
   "metadata": {},
   "outputs": [],
   "source": []
  },
  {
   "cell_type": "code",
   "execution_count": null,
   "metadata": {},
   "outputs": [],
   "source": []
  }
 ],
 "metadata": {
  "kernelspec": {
   "display_name": "Python 3",
   "language": "python",
   "name": "python3"
  },
  "language_info": {
   "codemirror_mode": {
    "name": "ipython",
    "version": 3
   },
   "file_extension": ".py",
   "mimetype": "text/x-python",
   "name": "python",
   "nbconvert_exporter": "python",
   "pygments_lexer": "ipython3",
   "version": "3.7.4"
  }
 },
 "nbformat": 4,
 "nbformat_minor": 2
}

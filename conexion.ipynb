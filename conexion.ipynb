{
 "cells": [
  {
   "cell_type": "code",
   "execution_count": 9,
   "metadata": {},
   "outputs": [],
   "source": [
    "import pyodbc\n",
    "import pandas as pd"
   ]
  },
  {
   "cell_type": "code",
   "execution_count": 10,
   "metadata": {},
   "outputs": [
    {
     "data": {
      "text/html": "<div>\n<style scoped>\n    .dataframe tbody tr th:only-of-type {\n        vertical-align: middle;\n    }\n\n    .dataframe tbody tr th {\n        vertical-align: top;\n    }\n\n    .dataframe thead th {\n        text-align: right;\n    }\n</style>\n<table border=\"1\" class=\"dataframe\">\n  <thead>\n    <tr style=\"text-align: right;\">\n      <th></th>\n      <th>ID_LEVEL1</th>\n      <th>NAME_LEVEL1</th>\n    </tr>\n  </thead>\n  <tbody>\n    <tr>\n      <td>0</td>\n      <td>1.0</td>\n      <td>CIENCAS DEL CLIMA</td>\n    </tr>\n    <tr>\n      <td>1</td>\n      <td>2.0</td>\n      <td>VULNERABILIDAD Y ADAPTACIÓN</td>\n    </tr>\n    <tr>\n      <td>2</td>\n      <td>3.0</td>\n      <td>MITIGACIÓN</td>\n    </tr>\n  </tbody>\n</table>\n</div>",
      "text/plain": "   ID_LEVEL1                  NAME_LEVEL1\n0        1.0            CIENCAS DEL CLIMA\n1        2.0  VULNERABILIDAD Y ADAPTACIÓN\n2        3.0                   MITIGACIÓN"
     },
     "execution_count": 10,
     "metadata": {},
     "output_type": "execute_result"
    }
   ],
   "source": [
    "conection = pyodbc.connect(\"Driver={SQL Server};Server=sud-austral.database.windows.net;Database=sudaustral;uid=sudaustral;pwd=Sud123456789\");\n",
    "cursor = conection.cursor();\n",
    "cursor.execute(\"SELECT * FROM ADMIN.A\")\n",
    "rows = cursor.fetchall()\n",
    "\"\"\"\n",
    "for row in rows:\n",
    "    print(row)\n",
    "https://tomaztsql.wordpress.com/2018/07/15/using-python-pandas-dataframe-to-read-and-insert-data-to-microsoft-sql-server/\n",
    "\"\"\"\n",
    "query = \"SELECT * FROM ADMIN.A\"\n",
    "df = pd.read_sql(query, conection)\n",
    "df.head(3)"
   ]
  },
  {
   "cell_type": "code",
   "execution_count": null,
   "metadata": {},
   "outputs": [],
   "source": []
  }
 ],
 "metadata": {
  "kernelspec": {
   "display_name": "Python 3",
   "language": "python",
   "name": "python3"
  },
  "language_info": {
   "codemirror_mode": {
    "name": "ipython",
    "version": 3
   },
   "file_extension": ".py",
   "mimetype": "text/x-python",
   "name": "python",
   "nbconvert_exporter": "python",
   "pygments_lexer": "ipython3",
   "version": "3.7.4-final"
  }
 },
 "nbformat": 4,
 "nbformat_minor": 2
}